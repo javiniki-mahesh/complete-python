{
 "cells": [
  {
   "cell_type": "markdown",
   "id": "b059f2ca",
   "metadata": {},
   "source": [
    "### string concatination"
   ]
  },
  {
   "cell_type": "code",
   "execution_count": null,
   "id": "9744b51e",
   "metadata": {},
   "outputs": [],
   "source": []
  },
  {
   "cell_type": "markdown",
   "id": "fee2e13b",
   "metadata": {},
   "source": [
    "### string multiplication"
   ]
  },
  {
   "cell_type": "code",
   "execution_count": null,
   "id": "89f53b19",
   "metadata": {},
   "outputs": [],
   "source": []
  },
  {
   "cell_type": "markdown",
   "id": "c10e0b64",
   "metadata": {},
   "source": [
    "### How to use for loop"
   ]
  },
  {
   "cell_type": "code",
   "execution_count": null,
   "id": "d87e2419",
   "metadata": {},
   "outputs": [],
   "source": []
  },
  {
   "cell_type": "markdown",
   "id": "76ec1224",
   "metadata": {},
   "source": [
    "### Start with pattern printing"
   ]
  },
  {
   "cell_type": "raw",
   "id": "c4e8ddb7",
   "metadata": {},
   "source": [
    "*\n",
    "**\n",
    "***\n",
    "****\n",
    "*****"
   ]
  },
  {
   "cell_type": "code",
   "execution_count": null,
   "id": "2f78a232",
   "metadata": {},
   "outputs": [],
   "source": []
  },
  {
   "cell_type": "raw",
   "id": "fe1307d0",
   "metadata": {},
   "source": [
    "    *\n",
    "   **\n",
    "  ***\n",
    " ****\n",
    "*****"
   ]
  },
  {
   "cell_type": "code",
   "execution_count": null,
   "id": "5073c3c3",
   "metadata": {},
   "outputs": [],
   "source": []
  },
  {
   "cell_type": "raw",
   "id": "30fe1dd1",
   "metadata": {},
   "source": [
    "    *\n",
    "   ***\n",
    "  *****\n",
    " *******\n",
    "*********"
   ]
  },
  {
   "cell_type": "code",
   "execution_count": null,
   "id": "ebb76d2d",
   "metadata": {},
   "outputs": [],
   "source": []
  },
  {
   "cell_type": "raw",
   "id": "5b1fc362",
   "metadata": {},
   "source": [
    "*****\n",
    " ****\n",
    "  ***\n",
    "   **\n",
    "    *"
   ]
  },
  {
   "cell_type": "code",
   "execution_count": null,
   "id": "f381ff6e",
   "metadata": {},
   "outputs": [],
   "source": []
  },
  {
   "cell_type": "raw",
   "id": "a325011a",
   "metadata": {},
   "source": [
    "*****\n",
    "****\n",
    "***\n",
    "**\n",
    "*"
   ]
  },
  {
   "cell_type": "code",
   "execution_count": null,
   "id": "9c2a35d4",
   "metadata": {},
   "outputs": [],
   "source": []
  },
  {
   "cell_type": "raw",
   "id": "e0e307f7",
   "metadata": {},
   "source": [
    "*********\n",
    " *******\n",
    "  *****\n",
    "   ***\n",
    "    *"
   ]
  },
  {
   "cell_type": "code",
   "execution_count": null,
   "id": "580edb73",
   "metadata": {},
   "outputs": [],
   "source": []
  },
  {
   "cell_type": "raw",
   "id": "d8a9c66f",
   "metadata": {},
   "source": [
    "    *\n",
    "   ***\n",
    "  *****\n",
    " *******\n",
    "*********\n",
    " *******\n",
    "  *****\n",
    "   ***\n",
    "    *"
   ]
  },
  {
   "cell_type": "code",
   "execution_count": 13,
   "id": "2d233b39",
   "metadata": {},
   "outputs": [
    {
     "data": {
      "image/png": "[encoded data removed]",
      "text/plain": [
       "<IPython.core.display.Image object>"
      ]
     },
     "execution_count": 13,
     "metadata": {},
     "output_type": "execute_result"
    }
   ],
   "source": [
    "from IPython.display import Image\n",
    "Image(\"F:\\youtube\\like comment share and subscrbe image.png\")"
   ]
  },
  {
   "cell_type": "code",
   "execution_count": null,
   "id": "0a36ed1c",
   "metadata": {},
   "outputs": [],
   "source": []
  }
 ],
 "metadata": {
  "kernelspec": {
   "display_name": "Python 3 (ipykernel)",
   "language": "python",
   "name": "python3"
  },
  "language_info": {
   "codemirror_mode": {
    "name": "ipython",
    "version": 3
   },
   "file_extension": ".py",
   "mimetype": "text/x-python",
   "name": "python",
   "nbconvert_exporter": "python",
   "pygments_lexer": "ipython3",
   "version": "3.9.12"
  }
 },
 "nbformat": 4,
 "nbformat_minor": 5
}
