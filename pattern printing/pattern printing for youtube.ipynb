{
 "cells": [
  {
   "cell_type": "code",
   "execution_count": 6,
   "id": "78e86956",
   "metadata": {
    "scrolled": true
   },
   "outputs": [
    {
     "name": "stdout",
     "output_type": "stream",
     "text": [
      "0\n",
      "1\n",
      "2\n",
      "3\n",
      "4\n",
      "5\n",
      "6\n",
      "7\n",
      "8\n",
      "9\n"
     ]
    }
   ],
   "source": [
    "num = 10\n",
    "for i in range(10):\n",
    "    print(i)"
   ]
  },
  {
   "cell_type": "code",
   "execution_count": 7,
   "id": "ff9735db",
   "metadata": {},
   "outputs": [
    {
     "name": "stdout",
     "output_type": "stream",
     "text": [
      "1\n",
      "2\n",
      "3\n",
      "4\n",
      "5\n",
      "6\n",
      "7\n",
      "8\n",
      "9\n",
      "10\n"
     ]
    }
   ],
   "source": [
    "for i in range(1,11):\n",
    "    print(i)"
   ]
  },
  {
   "cell_type": "code",
   "execution_count": 11,
   "id": "bb3fb48e",
   "metadata": {},
   "outputs": [
    {
     "name": "stdout",
     "output_type": "stream",
     "text": [
      "1 2 3 4 5 6 7 8 9 10 "
     ]
    }
   ],
   "source": [
    "for i in range(1,11):\n",
    "    print(i,end = ' ')"
   ]
  },
  {
   "cell_type": "code",
   "execution_count": 12,
   "id": "dca3390b",
   "metadata": {},
   "outputs": [
    {
     "name": "stdout",
     "output_type": "stream",
     "text": [
      "10 9 8 7 6 5 4 3 2 1 "
     ]
    }
   ],
   "source": [
    "for i in range(10,0,-1):\n",
    "    print(i, end = ' ')"
   ]
  },
  {
   "cell_type": "code",
   "execution_count": 17,
   "id": "6d43f4b4",
   "metadata": {},
   "outputs": [
    {
     "name": "stdout",
     "output_type": "stream",
     "text": [
      "Mahesh Javiniki\n",
      "MaheshMaheshMaheshMaheshMahesh\n"
     ]
    }
   ],
   "source": [
    "#  concatination\n",
    "string = 'Mahesh'\n",
    "surname = 'Javiniki'\n",
    "print(string + ' ' + surname)\n",
    "\n",
    "# multiplication\n",
    "\n",
    "print(string * 5)"
   ]
  },
  {
   "cell_type": "raw",
   "id": "e6f8fe1b",
   "metadata": {},
   "source": [
    "*\n",
    "**\n",
    "***\n",
    "****\n",
    "*****"
   ]
  },
  {
   "cell_type": "code",
   "execution_count": 25,
   "id": "b2c2e20a",
   "metadata": {},
   "outputs": [
    {
     "name": "stdout",
     "output_type": "stream",
     "text": [
      "Enter any number: 6\n",
      "*\n",
      "**\n",
      "***\n",
      "****\n",
      "*****\n",
      "******\n"
     ]
    }
   ],
   "source": [
    "num = int(input('Enter any number: '))\n",
    "for i in range(1, num + 1):\n",
    "    print('*' * i)"
   ]
  },
  {
   "cell_type": "raw",
   "id": "a8033410",
   "metadata": {},
   "source": [
    "1 * '*' > *\n",
    "2 * '*' > **\n",
    "3 * '*' > ***\n",
    "4 * '*' > ****\n",
    "5 * '*' > *****"
   ]
  },
  {
   "cell_type": "raw",
   "id": "f453f791",
   "metadata": {},
   "source": [
    "    *\n",
    "   **\n",
    "  ***\n",
    " ****\n",
    "*****"
   ]
  },
  {
   "cell_type": "code",
   "execution_count": 27,
   "id": "3a93d51e",
   "metadata": {
    "scrolled": true
   },
   "outputs": [
    {
     "name": "stdout",
     "output_type": "stream",
     "text": [
      "    *\n",
      "   **\n",
      "  ***\n",
      " ****\n",
      "*****\n"
     ]
    }
   ],
   "source": [
    "num = 5\n",
    "temp = num - 1\n",
    "for i in range(1,num+1):\n",
    "    print(' '* temp + '*' *i)\n",
    "    temp -= 1"
   ]
  },
  {
   "cell_type": "raw",
   "id": "15901a4e",
   "metadata": {},
   "source": [
    "    *\n",
    "   ***\n",
    "  *****\n",
    " *******\n",
    "*********"
   ]
  },
  {
   "cell_type": "code",
   "execution_count": 28,
   "id": "92dba2a4",
   "metadata": {},
   "outputs": [
    {
     "name": "stdout",
     "output_type": "stream",
     "text": [
      "    *\n",
      "   ***\n",
      "  *****\n",
      " *******\n",
      "*********\n"
     ]
    }
   ],
   "source": [
    "num = 5\n",
    "temp = num - 1\n",
    "for i in range(1, num +1):\n",
    "    print(' ' * temp+'*'*((i * 2) -1))\n",
    "    temp -= 1"
   ]
  },
  {
   "cell_type": "raw",
   "id": "cc8c48cc",
   "metadata": {},
   "source": [
    "*****\n",
    " ****\n",
    "  ***\n",
    "   **\n",
    "    *"
   ]
  },
  {
   "cell_type": "code",
   "execution_count": 33,
   "id": "d1f7a4f0",
   "metadata": {},
   "outputs": [
    {
     "name": "stdout",
     "output_type": "stream",
     "text": [
      "*****\n",
      " ****\n",
      "  ***\n",
      "   **\n",
      "    *\n"
     ]
    }
   ],
   "source": [
    "num = 5\n",
    "spaces = 0\n",
    "for i in range(num, 0, -1):\n",
    "    print(' '*spaces+ i * '*')\n",
    "    spaces +=1 "
   ]
  },
  {
   "cell_type": "raw",
   "id": "80ee30c9",
   "metadata": {},
   "source": [
    "*****\n",
    "****\n",
    "***\n",
    "**\n",
    "*"
   ]
  },
  {
   "cell_type": "code",
   "execution_count": 34,
   "id": "360d00f3",
   "metadata": {},
   "outputs": [
    {
     "name": "stdout",
     "output_type": "stream",
     "text": [
      "*****\n",
      "****\n",
      "***\n",
      "**\n",
      "*\n"
     ]
    }
   ],
   "source": [
    "num = 5\n",
    "for i in range(num, 0, -1):\n",
    "    print('*' * i)"
   ]
  },
  {
   "cell_type": "raw",
   "id": "5c9dd382",
   "metadata": {},
   "source": [
    "*********\n",
    " *******\n",
    "  *****\n",
    "   ***\n",
    "    *"
   ]
  },
  {
   "cell_type": "code",
   "execution_count": 38,
   "id": "d19cf2cb",
   "metadata": {},
   "outputs": [
    {
     "name": "stdout",
     "output_type": "stream",
     "text": [
      "*********\n",
      " *******\n",
      "  *****\n",
      "   ***\n",
      "    *\n"
     ]
    }
   ],
   "source": [
    "num = 5\n",
    "spaces = 0\n",
    "for i in range(num, 0, -1):\n",
    "    print(spaces * ' ' + ((i * 2)-1) * '*')\n",
    "    spaces +=1"
   ]
  },
  {
   "cell_type": "raw",
   "id": "3edcfea1",
   "metadata": {},
   "source": [
    "    *\n",
    "   ***\n",
    "  *****\n",
    " *******\n",
    "*********\n",
    " *******\n",
    "  *****\n",
    "   ***\n",
    "    *"
   ]
  },
  {
   "cell_type": "code",
   "execution_count": 45,
   "id": "77d9a7ec",
   "metadata": {},
   "outputs": [
    {
     "name": "stdout",
     "output_type": "stream",
     "text": [
      "    *\n",
      "   ***\n",
      "  *****\n",
      " *******\n",
      "*********\n",
      " *******\n",
      "  *****\n",
      "   ***\n",
      "    *\n"
     ]
    }
   ],
   "source": [
    "num = 5\n",
    "spaces = num - 1\n",
    "for i in range(1, num):\n",
    "    print(' ' * spaces + '*' *((i * 2)-1))\n",
    "    spaces -= 1\n",
    "down_spaces = 0\n",
    "for j in range(num, 0, -1):\n",
    "    print(down_spaces * ' ' + '*' * ((j *2)-1))\n",
    "    down_spaces +=1"
   ]
  },
  {
   "cell_type": "code",
   "execution_count": null,
   "id": "1e61b228",
   "metadata": {},
   "outputs": [],
   "source": []
  }
 ],
 "metadata": {
  "kernelspec": {
   "display_name": "Python 3 (ipykernel)",
   "language": "python",
   "name": "python3"
  },
  "language_info": {
   "codemirror_mode": {
    "name": "ipython",
    "version": 3
   },
   "file_extension": ".py",
   "mimetype": "text/x-python",
   "name": "python",
   "nbconvert_exporter": "python",
   "pygments_lexer": "ipython3",
   "version": "3.9.12"
  }
 },
 "nbformat": 4,
 "nbformat_minor": 5
}
